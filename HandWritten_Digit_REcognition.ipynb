{
  "nbformat": 4,
  "nbformat_minor": 0,
  "metadata": {
    "colab": {
      "provenance": [],
      "gpuType": "T4",
      "authorship_tag": "ABX9TyPIMmjCNt39yf6bXRBFzuZ1",
      "include_colab_link": true
    },
    "kernelspec": {
      "name": "python3",
      "display_name": "Python 3"
    },
    "language_info": {
      "name": "python"
    },
    "accelerator": "GPU"
  },
  "cells": [
    {
      "cell_type": "markdown",
      "metadata": {
        "id": "view-in-github",
        "colab_type": "text"
      },
      "source": [
        "<a href=\"https://colab.research.google.com/github/rafiqmyura/Learn-Machine-Learning/blob/main/HandWritten_Digit_REcognition.ipynb\" target=\"_parent\"><img src=\"https://colab.research.google.com/assets/colab-badge.svg\" alt=\"Open In Colab\"/></a>"
      ]
    },
    {
      "cell_type": "markdown",
      "source": [
        "### Import Library"
      ],
      "metadata": {
        "id": "HD7UY9Z9DkwY"
      }
    },
    {
      "cell_type": "code",
      "execution_count": 1,
      "metadata": {
        "id": "dzAZJt6aCrL-"
      },
      "outputs": [],
      "source": [
        "import numpy as np\n",
        "import pandas as pd\n",
        "import matplotlib.pyplot as plt\n",
        "\n",
        "from keras.models import Sequential\n",
        "from keras.layers import Dense, Dropout, Flatten, MaxPooling2D, Conv2D\n",
        "from keras import backend as BK\n",
        "import keras\n",
        "\n",
        "from keras.datasets import mnist"
      ]
    },
    {
      "cell_type": "markdown",
      "source": [
        "### Load Train and Test Data"
      ],
      "metadata": {
        "id": "MHOJmFo9EWeW"
      }
    },
    {
      "cell_type": "code",
      "source": [
        "(X_train, y_train), (X_test, y_test) = mnist.load_data()\n",
        "\n",
        "print(\"Dimension of X_train\", X_train.shape)\n",
        "print(\"Dimension of y_train\", y_train.shape)\n",
        "print(\"Dimension of X_test\", X_test.shape)\n",
        "print(\"Dimension of y_test\", y_test.shape)"
      ],
      "metadata": {
        "colab": {
          "base_uri": "https://localhost:8080/"
        },
        "id": "IUF9zIMyEVGY",
        "outputId": "0457e4dc-59d0-409b-e327-6aa719c073de"
      },
      "execution_count": 2,
      "outputs": [
        {
          "output_type": "stream",
          "name": "stdout",
          "text": [
            "Downloading data from https://storage.googleapis.com/tensorflow/tf-keras-datasets/mnist.npz\n",
            "11490434/11490434 [==============================] - 2s 0us/step\n",
            "Dimension of X_train (60000, 28, 28)\n",
            "Dimension of y_train (60000,)\n",
            "Dimension of X_test (10000, 28, 28)\n",
            "Dimension of y_test (10000,)\n"
          ]
        }
      ]
    },
    {
      "cell_type": "code",
      "source": [
        "X_train = X_train.reshape(X_train.shape[0] , 28, 28, 1)\n",
        "\n",
        "X_test = X_test.reshape(X_test.shape[0] , 28, 28, 1)"
      ],
      "metadata": {
        "id": "JUD6w6qJFAcS"
      },
      "execution_count": 3,
      "outputs": []
    },
    {
      "cell_type": "markdown",
      "source": [
        "### Represent the Class to Numbers (0-9)\n"
      ],
      "metadata": {
        "id": "9Rw77T9GFd6P"
      }
    },
    {
      "cell_type": "code",
      "source": [
        "y_train = keras.utils.to_categorical(y_train , 10)\n",
        "y_test = keras.utils.to_categorical(y_test , 10)"
      ],
      "metadata": {
        "id": "KazGoxR0Fc0s"
      },
      "execution_count": 4,
      "outputs": []
    },
    {
      "cell_type": "code",
      "source": [
        "X_train = X_train.astype('float32')\n",
        "X_test = X_test.astype('float32')\n",
        "\n",
        "\n",
        "X_train /= 255\n",
        "X_test /= 255\n",
        "\n",
        "print(X_train.shape)"
      ],
      "metadata": {
        "colab": {
          "base_uri": "https://localhost:8080/"
        },
        "id": "-obaslO9F3sb",
        "outputId": "24e5a948-57d1-410d-d238-086e559f8d84"
      },
      "execution_count": 5,
      "outputs": [
        {
          "output_type": "stream",
          "name": "stdout",
          "text": [
            "(60000, 28, 28, 1)\n"
          ]
        }
      ]
    },
    {
      "cell_type": "code",
      "source": [
        "batch_size = 128\n",
        "Num_Of_Classes = 10\n",
        "epochs = 10\n",
        "input_shape = (28 ,28, 1)"
      ],
      "metadata": {
        "id": "YNwzypXOGM3L"
      },
      "execution_count": 6,
      "outputs": []
    },
    {
      "cell_type": "code",
      "source": [
        "model  = Sequential()\n",
        "model.add(Conv2D(32 , kernel_size= (5,5) , activation = 'relu' , input_shape = input_shape ))\n",
        "model.add(MaxPooling2D(pool_size = (2,2)))\n",
        "model.add(Conv2D(64 , kernel_size= (3,3) , activation = 'relu' ))\n",
        "model.add(MaxPooling2D(pool_size = (2,2)))\n",
        "model.add(Flatten())\n",
        "model.add(Dense(128 , activation = 'relu' ))\n",
        "model.add(Dropout(0.3))\n",
        "model.add(Dense(64 , activation = 'relu' ))\n",
        "model.add(Dropout(0.5))\n",
        "model.add(Dense(Num_Of_Classes , activation = 'softmax' ))"
      ],
      "metadata": {
        "id": "NuOvvSWpGZPW"
      },
      "execution_count": 7,
      "outputs": []
    },
    {
      "cell_type": "markdown",
      "source": [
        "### Train the model"
      ],
      "metadata": {
        "id": "DinKmdcHGzoy"
      }
    },
    {
      "cell_type": "code",
      "source": [
        "model.compile(loss = 'binary_crossentropy' , optimizer = keras.optimizers.Adadelta() ,\n",
        "             metrics = ['accuracy'])\n",
        "\n",
        "hist = model.fit(X_train , y_train , batch_size = batch_size ,epochs = epochs  , verbose = 1 ,  validation_data = (X_test , y_test) )\n"
      ],
      "metadata": {
        "colab": {
          "base_uri": "https://localhost:8080/"
        },
        "id": "Ov9uEoBiGysW",
        "outputId": "1ef13edb-a0a3-4f1a-807c-0dbddae1b619"
      },
      "execution_count": 8,
      "outputs": [
        {
          "output_type": "stream",
          "name": "stdout",
          "text": [
            "Epoch 1/10\n",
            "469/469 [==============================] - 9s 7ms/step - loss: 0.6941 - accuracy: 0.0911 - val_loss: 0.6855 - val_accuracy: 0.1044\n",
            "Epoch 2/10\n",
            "469/469 [==============================] - 3s 6ms/step - loss: 0.6796 - accuracy: 0.0970 - val_loss: 0.6677 - val_accuracy: 0.0881\n",
            "Epoch 3/10\n",
            "469/469 [==============================] - 2s 5ms/step - loss: 0.6607 - accuracy: 0.0974 - val_loss: 0.6440 - val_accuracy: 0.0892\n",
            "Epoch 4/10\n",
            "469/469 [==============================] - 3s 6ms/step - loss: 0.6349 - accuracy: 0.0975 - val_loss: 0.6088 - val_accuracy: 0.0892\n",
            "Epoch 5/10\n",
            "469/469 [==============================] - 3s 6ms/step - loss: 0.5977 - accuracy: 0.0991 - val_loss: 0.5559 - val_accuracy: 0.0892\n",
            "Epoch 6/10\n",
            "469/469 [==============================] - 3s 5ms/step - loss: 0.5498 - accuracy: 0.0987 - val_loss: 0.4889 - val_accuracy: 0.0892\n",
            "Epoch 7/10\n",
            "469/469 [==============================] - 3s 6ms/step - loss: 0.5010 - accuracy: 0.0975 - val_loss: 0.4264 - val_accuracy: 0.0892\n",
            "Epoch 8/10\n",
            "469/469 [==============================] - 3s 6ms/step - loss: 0.4640 - accuracy: 0.0999 - val_loss: 0.3839 - val_accuracy: 0.0892\n",
            "Epoch 9/10\n",
            "469/469 [==============================] - 3s 7ms/step - loss: 0.4422 - accuracy: 0.1053 - val_loss: 0.3610 - val_accuracy: 0.0892\n",
            "Epoch 10/10\n",
            "469/469 [==============================] - 3s 6ms/step - loss: 0.4293 - accuracy: 0.1069 - val_loss: 0.3494 - val_accuracy: 0.0892\n"
          ]
        }
      ]
    }
  ]
}