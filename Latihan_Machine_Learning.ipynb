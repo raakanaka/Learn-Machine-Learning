{
  "cells": [
    {
      "cell_type": "markdown",
      "metadata": {
        "id": "view-in-github",
        "colab_type": "text"
      },
      "source": [
        "<a href=\"https://colab.research.google.com/github/rafiqmyura/Learn-Machine-Learning/blob/main/Latihan_Machine_Learning.ipynb\" target=\"_parent\"><img src=\"https://colab.research.google.com/assets/colab-badge.svg\" alt=\"Open In Colab\"/></a>"
      ]
    },
    {
      "cell_type": "markdown",
      "metadata": {
        "id": "jTigVwcx7AuM"
      },
      "source": [
        "#Machine Learning Untuk Pemula bab 2\n",
        "\n",
        "Latihan 1 Pengenalan Machine Learning"
      ]
    },
    {
      "cell_type": "markdown",
      "metadata": {
        "id": "uP6wi4n77AuP"
      },
      "source": [
        "1. Jelaskan berbagai kasus yang bisa diselesaikan dengan machine learning?\n",
        "\n",
        "Jawaban : banyak hal kasus-kasus yang dapat diselesaikan oleh machine learning, contohnya saja dalam mengambil keputusan sebuah tanaman bawang merah. Bagaimana kita menilai bawang merah\n",
        "tersebut memiliki kualitas baik dan buruknya? tentunya dengan menilai bentuk, ukuran, warna, dan usia dalam memanen bawang merah. untuk secara kompleksnya, kita perlu mengambil sampel dari\n",
        "tingkat unsur hara tanah ke bawang merah. bukan untuk bawang merah saja, untuk bidang lainnya masih banyak seperti untuk otomotif, kesehatan, ansuransi, dan lain sebagainya."
      ]
    },
    {
      "cell_type": "markdown",
      "metadata": {
        "id": "n74VDzpD7AuQ"
      },
      "source": [
        "2. Apa perbedaan paling mendasar antara surpersived  learning dan unsurvised learning?\n",
        "\n",
        "Jawaban : Data Sudah ada dan data yang mendekati, maksudnya adalah Survised learning belajar pengalam pribadi seseorang misalnya Rafiq setiap hari melewati jalan Brahmana yang memiliki\n",
        "tingkat kerusakan jalan yang parah, dan menyarankan agar teman-teman rafiq tidak untuk melewati jalan Brahmana. dan untuk unsurvised learning sendiri belajar tanpa bimbingan dengan belajar\n",
        "dari pengalaman komunitas dengan menyatukan data yang sudah ada."
      ]
    },
    {
      "cell_type": "markdown",
      "metadata": {
        "id": "1tRJ5Pvy7AuQ"
      },
      "source": [
        "3. Apa perbedaan yang paling mendasar antara supervised learning dan reinforcement learning?\n",
        "\n",
        "Jawabannya : Belajar dari pengalaman dan belajar dari kesalahan (contoh kasus: Mobil tesla dengan autopilotnya, seorang baru mengenal crypto)"
      ]
    },
    {
      "cell_type": "markdown",
      "metadata": {
        "id": "Co138-4-7AuQ"
      },
      "source": [
        "4. perbedaan yang paling mendasar antara unsurvised learning ddan reinforcement learning?\n",
        "\n",
        "Jawabannya : sama sama belajar dari tanpa pembimbing tapi mengambil dari study case dari pengalaman orang lain dan kesalahan yang sudah terjadi"
      ]
    },
    {
      "cell_type": "markdown",
      "metadata": {
        "id": "Yj2tkPoE7AuR"
      },
      "source": [
        "5. Menurut anda, apakah pekerjaan manusia akan digantikan oleh machine learning? Jelaskan pendapat anda secara ilmiah!\n",
        "\n",
        "jawabannya : Mungkin, mengapa begitu? ada beberapa aspek pekerjaan manusia yang tidak dapat tergantikan. seperti mesin presisi tinggi untuk pembuatan chipset dengan tingkat 3nm dimiliki\n",
        "oleh snapdragon tentunya perlu perhatian untuk mengawasi jalannya produksi. apalagi mesin presisi ini memiliki hitungan rumit, belum tentu data yang sudah ada memiliki akurasi yang tinggi\n",
        "yang dilakukan machine learning. walau dengan menggunakan model algoritma perlu adanya penelitian dan riset berkelanjutan untuk machine learning untuk mengerjakan mesin presisi dengan hitungan rumit. hanya saja, ada beberapa kemungkinan juga pekerjaan manusia yang digantikan, contoh kasusnya saja seperti kasir otomatis yang terdapat di negara jepang. karena data dan modelnya juga sudah sempurna hanya saja perlu juga improvisasi terhadap model, algoritma, dan data berdasarkan sifat, tingkah laku seorang pelanggan."
      ]
    }
  ],
  "metadata": {
    "language_info": {
      "name": "python"
    },
    "colab": {
      "provenance": [],
      "include_colab_link": true
    },
    "kernelspec": {
      "name": "python3",
      "display_name": "Python 3"
    }
  },
  "nbformat": 4,
  "nbformat_minor": 0
}