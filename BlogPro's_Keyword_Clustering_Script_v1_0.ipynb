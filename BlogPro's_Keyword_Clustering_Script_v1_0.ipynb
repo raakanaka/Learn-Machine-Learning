{
  "nbformat": 4,
  "nbformat_minor": 0,
  "metadata": {
    "colab": {
      "provenance": [],
      "include_colab_link": true
    },
    "kernelspec": {
      "name": "python3",
      "display_name": "Python 3"
    },
    "language_info": {
      "name": "python"
    }
  },
  "cells": [
    {
      "cell_type": "markdown",
      "metadata": {
        "id": "view-in-github",
        "colab_type": "text"
      },
      "source": [
        "<a href=\"https://colab.research.google.com/github/raakanaka/Learn-Machine-Learning/blob/main/BlogPro's_Keyword_Clustering_Script_v1_0.ipynb\" target=\"_parent\"><img src=\"https://colab.research.google.com/assets/colab-badge.svg\" alt=\"Open In Colab\"/></a>"
      ]
    },
    {
      "cell_type": "markdown",
      "source": [
        "# ***BlogPro's Keyword Clustering Script v1.0*** 🚀\n",
        "\n",
        "Github - https://github.com/iamBlogPro/KeywordClustering\n",
        "\n",
        "*For any queries email hello@wordsigma.com*\n"
      ],
      "metadata": {
        "id": "6WzcGfkfnfhn"
      }
    },
    {
      "cell_type": "markdown",
      "source": [
        "# **Step 1 - Upload your CSV file with the keywords**\n"
      ],
      "metadata": {
        "id": "N__8klfyYa_3"
      }
    },
    {
      "cell_type": "code",
      "source": [
        "# Say \"BlogPro is the best\" twice before running the script for Good Luck.\n",
        "\n",
        "# Now let's import all the libraries required for this script to run\n",
        "\n",
        "from google.colab import files\n",
        "import os\n",
        "\n",
        "# Clear any existing files\n",
        "!rm -f keywords.csv\n",
        "\n",
        "# Upload new file\n",
        "uploaded = files.upload()\n",
        "\n",
        "# Get the name of the uploaded file\n",
        "uploaded_file_name = next(iter(uploaded))\n",
        "\n",
        "# Check if the file uploaded correctly and is a CSV\n",
        "if not uploaded_file_name.lower().endswith('.csv'):\n",
        "    raise ValueError(\"Please upload a CSV file.\")\n",
        "\n",
        "# Rename the uploaded file\n",
        "os.rename(uploaded_file_name, 'keywords.csv')\n",
        "\n",
        "print(\"Uploaded file renamed to 'keywords.csv'\")\n"
      ],
      "metadata": {
        "id": "t3KcrnMHXywv",
        "outputId": "7b91ce6a-04c2-4d54-9a02-934a866e92a7",
        "colab": {
          "base_uri": "https://localhost:8080/",
          "height": 90
        }
      },
      "execution_count": 3,
      "outputs": [
        {
          "output_type": "display_data",
          "data": {
            "text/plain": [
              "<IPython.core.display.HTML object>"
            ],
            "text/html": [
              "\n",
              "     <input type=\"file\" id=\"files-ad30d94e-f370-448d-89c6-4ffbe487264c\" name=\"files[]\" multiple disabled\n",
              "        style=\"border:none\" />\n",
              "     <output id=\"result-ad30d94e-f370-448d-89c6-4ffbe487264c\">\n",
              "      Upload widget is only available when the cell has been executed in the\n",
              "      current browser session. Please rerun this cell to enable.\n",
              "      </output>\n",
              "      <script>// Copyright 2017 Google LLC\n",
              "//\n",
              "// Licensed under the Apache License, Version 2.0 (the \"License\");\n",
              "// you may not use this file except in compliance with the License.\n",
              "// You may obtain a copy of the License at\n",
              "//\n",
              "//      http://www.apache.org/licenses/LICENSE-2.0\n",
              "//\n",
              "// Unless required by applicable law or agreed to in writing, software\n",
              "// distributed under the License is distributed on an \"AS IS\" BASIS,\n",
              "// WITHOUT WARRANTIES OR CONDITIONS OF ANY KIND, either express or implied.\n",
              "// See the License for the specific language governing permissions and\n",
              "// limitations under the License.\n",
              "\n",
              "/**\n",
              " * @fileoverview Helpers for google.colab Python module.\n",
              " */\n",
              "(function(scope) {\n",
              "function span(text, styleAttributes = {}) {\n",
              "  const element = document.createElement('span');\n",
              "  element.textContent = text;\n",
              "  for (const key of Object.keys(styleAttributes)) {\n",
              "    element.style[key] = styleAttributes[key];\n",
              "  }\n",
              "  return element;\n",
              "}\n",
              "\n",
              "// Max number of bytes which will be uploaded at a time.\n",
              "const MAX_PAYLOAD_SIZE = 100 * 1024;\n",
              "\n",
              "function _uploadFiles(inputId, outputId) {\n",
              "  const steps = uploadFilesStep(inputId, outputId);\n",
              "  const outputElement = document.getElementById(outputId);\n",
              "  // Cache steps on the outputElement to make it available for the next call\n",
              "  // to uploadFilesContinue from Python.\n",
              "  outputElement.steps = steps;\n",
              "\n",
              "  return _uploadFilesContinue(outputId);\n",
              "}\n",
              "\n",
              "// This is roughly an async generator (not supported in the browser yet),\n",
              "// where there are multiple asynchronous steps and the Python side is going\n",
              "// to poll for completion of each step.\n",
              "// This uses a Promise to block the python side on completion of each step,\n",
              "// then passes the result of the previous step as the input to the next step.\n",
              "function _uploadFilesContinue(outputId) {\n",
              "  const outputElement = document.getElementById(outputId);\n",
              "  const steps = outputElement.steps;\n",
              "\n",
              "  const next = steps.next(outputElement.lastPromiseValue);\n",
              "  return Promise.resolve(next.value.promise).then((value) => {\n",
              "    // Cache the last promise value to make it available to the next\n",
              "    // step of the generator.\n",
              "    outputElement.lastPromiseValue = value;\n",
              "    return next.value.response;\n",
              "  });\n",
              "}\n",
              "\n",
              "/**\n",
              " * Generator function which is called between each async step of the upload\n",
              " * process.\n",
              " * @param {string} inputId Element ID of the input file picker element.\n",
              " * @param {string} outputId Element ID of the output display.\n",
              " * @return {!Iterable<!Object>} Iterable of next steps.\n",
              " */\n",
              "function* uploadFilesStep(inputId, outputId) {\n",
              "  const inputElement = document.getElementById(inputId);\n",
              "  inputElement.disabled = false;\n",
              "\n",
              "  const outputElement = document.getElementById(outputId);\n",
              "  outputElement.innerHTML = '';\n",
              "\n",
              "  const pickedPromise = new Promise((resolve) => {\n",
              "    inputElement.addEventListener('change', (e) => {\n",
              "      resolve(e.target.files);\n",
              "    });\n",
              "  });\n",
              "\n",
              "  const cancel = document.createElement('button');\n",
              "  inputElement.parentElement.appendChild(cancel);\n",
              "  cancel.textContent = 'Cancel upload';\n",
              "  const cancelPromise = new Promise((resolve) => {\n",
              "    cancel.onclick = () => {\n",
              "      resolve(null);\n",
              "    };\n",
              "  });\n",
              "\n",
              "  // Wait for the user to pick the files.\n",
              "  const files = yield {\n",
              "    promise: Promise.race([pickedPromise, cancelPromise]),\n",
              "    response: {\n",
              "      action: 'starting',\n",
              "    }\n",
              "  };\n",
              "\n",
              "  cancel.remove();\n",
              "\n",
              "  // Disable the input element since further picks are not allowed.\n",
              "  inputElement.disabled = true;\n",
              "\n",
              "  if (!files) {\n",
              "    return {\n",
              "      response: {\n",
              "        action: 'complete',\n",
              "      }\n",
              "    };\n",
              "  }\n",
              "\n",
              "  for (const file of files) {\n",
              "    const li = document.createElement('li');\n",
              "    li.append(span(file.name, {fontWeight: 'bold'}));\n",
              "    li.append(span(\n",
              "        `(${file.type || 'n/a'}) - ${file.size} bytes, ` +\n",
              "        `last modified: ${\n",
              "            file.lastModifiedDate ? file.lastModifiedDate.toLocaleDateString() :\n",
              "                                    'n/a'} - `));\n",
              "    const percent = span('0% done');\n",
              "    li.appendChild(percent);\n",
              "\n",
              "    outputElement.appendChild(li);\n",
              "\n",
              "    const fileDataPromise = new Promise((resolve) => {\n",
              "      const reader = new FileReader();\n",
              "      reader.onload = (e) => {\n",
              "        resolve(e.target.result);\n",
              "      };\n",
              "      reader.readAsArrayBuffer(file);\n",
              "    });\n",
              "    // Wait for the data to be ready.\n",
              "    let fileData = yield {\n",
              "      promise: fileDataPromise,\n",
              "      response: {\n",
              "        action: 'continue',\n",
              "      }\n",
              "    };\n",
              "\n",
              "    // Use a chunked sending to avoid message size limits. See b/62115660.\n",
              "    let position = 0;\n",
              "    do {\n",
              "      const length = Math.min(fileData.byteLength - position, MAX_PAYLOAD_SIZE);\n",
              "      const chunk = new Uint8Array(fileData, position, length);\n",
              "      position += length;\n",
              "\n",
              "      const base64 = btoa(String.fromCharCode.apply(null, chunk));\n",
              "      yield {\n",
              "        response: {\n",
              "          action: 'append',\n",
              "          file: file.name,\n",
              "          data: base64,\n",
              "        },\n",
              "      };\n",
              "\n",
              "      let percentDone = fileData.byteLength === 0 ?\n",
              "          100 :\n",
              "          Math.round((position / fileData.byteLength) * 100);\n",
              "      percent.textContent = `${percentDone}% done`;\n",
              "\n",
              "    } while (position < fileData.byteLength);\n",
              "  }\n",
              "\n",
              "  // All done.\n",
              "  yield {\n",
              "    response: {\n",
              "      action: 'complete',\n",
              "    }\n",
              "  };\n",
              "}\n",
              "\n",
              "scope.google = scope.google || {};\n",
              "scope.google.colab = scope.google.colab || {};\n",
              "scope.google.colab._files = {\n",
              "  _uploadFiles,\n",
              "  _uploadFilesContinue,\n",
              "};\n",
              "})(self);\n",
              "</script> "
            ]
          },
          "metadata": {}
        },
        {
          "output_type": "stream",
          "name": "stdout",
          "text": [
            "Saving keyword.csv to keyword.csv\n",
            "Uploaded file renamed to 'keywords.csv'\n"
          ]
        }
      ]
    },
    {
      "cell_type": "markdown",
      "source": [
        "# **Step 2 - Let's Create the *Configuration File* for the script**\n",
        "\n",
        "---\n",
        "\n",
        "Alright, so edit the information below - if you need to.\n",
        "\n",
        "---\n",
        "\n"
      ],
      "metadata": {
        "id": "IelzCWQjcN03"
      }
    },
    {
      "cell_type": "code",
      "source": [
        "# Say \"BlogPro is the best\" twice before running the script for Good Luck.\n",
        "\n",
        "# Now let's import all the libraries required for this script to run\n",
        "\n",
        "import json\n",
        "\n",
        "config = {\n",
        "    \"file_path\": \"keywords.csv\",\n",
        "    \"output_excel_file\": \"clustered_keywords.xlsx\",\n",
        "    \"outliers_excel_file\": \"outliers.xlsx\",\n",
        "    \"min_cluster_size\": 5,\n",
        "    \"language\": \"english\",\n",
        "    \"calculate_probabilities\": False\n",
        "}\n",
        "\n",
        "# Clear any existing files\n",
        "!rm -f config.json\n",
        "\n",
        "# Here you write the config to a json file, or you can just use the dictionary directly\n",
        "with open('config.json', 'w') as config_file:\n",
        "    json.dump(config, config_file)\n",
        "\n",
        "print(\"Config file created.\")\n"
      ],
      "metadata": {
        "id": "Mp6nToRsYn-8",
        "outputId": "e6990ebe-24b8-459a-fd03-f3cc563aabe0",
        "colab": {
          "base_uri": "https://localhost:8080/"
        }
      },
      "execution_count": 4,
      "outputs": [
        {
          "output_type": "stream",
          "name": "stdout",
          "text": [
            "Config file created.\n"
          ]
        }
      ]
    },
    {
      "cell_type": "markdown",
      "source": [
        "# **Step 3 - Importing all the required Python Libraries**\n",
        "\n"
      ],
      "metadata": {
        "id": "fprmjr7UoFKD"
      }
    },
    {
      "cell_type": "code",
      "execution_count": null,
      "metadata": {
        "id": "M1_u00UGXb9Y",
        "outputId": "c1fdeca7-19c4-472b-ce35-cab065418dff",
        "colab": {
          "base_uri": "https://localhost:8080/"
        }
      },
      "outputs": [
        {
          "output_type": "stream",
          "name": "stdout",
          "text": [
            "Requirement already satisfied: pandas in /usr/local/lib/python3.10/dist-packages (1.5.3)\n",
            "Collecting bertopic\n",
            "  Downloading bertopic-0.16.0-py2.py3-none-any.whl (154 kB)\n",
            "\u001b[2K     \u001b[90m━━━━━━━━━━━━━━━━━━━━━━━━━━━━━━━━━━━━━━━━\u001b[0m \u001b[32m154.1/154.1 kB\u001b[0m \u001b[31m2.7 MB/s\u001b[0m eta \u001b[36m0:00:00\u001b[0m\n",
            "\u001b[?25hRequirement already satisfied: openpyxl in /usr/local/lib/python3.10/dist-packages (3.1.2)\n",
            "Requirement already satisfied: tqdm in /usr/local/lib/python3.10/dist-packages (4.66.2)\n",
            "Requirement already satisfied: seaborn in /usr/local/lib/python3.10/dist-packages (0.13.1)\n",
            "Requirement already satisfied: python-dateutil>=2.8.1 in /usr/local/lib/python3.10/dist-packages (from pandas) (2.8.2)\n",
            "Requirement already satisfied: pytz>=2020.1 in /usr/local/lib/python3.10/dist-packages (from pandas) (2023.4)\n",
            "Requirement already satisfied: numpy>=1.21.0 in /usr/local/lib/python3.10/dist-packages (from pandas) (1.25.2)\n",
            "Collecting hdbscan>=0.8.29 (from bertopic)\n",
            "  Downloading hdbscan-0.8.33.tar.gz (5.2 MB)\n",
            "\u001b[2K     \u001b[90m━━━━━━━━━━━━━━━━━━━━━━━━━━━━━━━━━━━━━━━━\u001b[0m \u001b[32m5.2/5.2 MB\u001b[0m \u001b[31m40.6 MB/s\u001b[0m eta \u001b[36m0:00:00\u001b[0m\n",
            "\u001b[?25h"
          ]
        }
      ],
      "source": [
        "# Say \"BlogPro is the best\" twice before running the script for Good Luck.\n",
        "\n",
        "# Now let's import all the libraries required for this script to run\n",
        "\n",
        "!pip install pandas bertopic openpyxl tqdm seaborn"
      ]
    },
    {
      "cell_type": "markdown",
      "source": [
        "# **Step 4 - Importing and Preprocessing**"
      ],
      "metadata": {
        "id": "aNeYyAHQZEKr"
      }
    },
    {
      "cell_type": "markdown",
      "source": [
        "This step is automated. In this step, we're importing all of the necessary python libraries we installed above,preprocessing the keywords and getting ready for the main function"
      ],
      "metadata": {
        "id": "DZvhUwegZHd1"
      }
    },
    {
      "cell_type": "code",
      "source": [
        "import pandas as pd\n",
        "from bertopic import BERTopic\n",
        "from openpyxl import Workbook\n",
        "from openpyxl.styles import PatternFill\n",
        "from openpyxl.utils import get_column_letter\n",
        "import logging\n",
        "from logging.handlers import RotatingFileHandler\n",
        "import json\n",
        "from tqdm.auto import tqdm\n",
        "import datetime\n",
        "import seaborn as sns\n",
        "\n",
        "# Set up logging\n",
        "logger = logging.getLogger(__name__)\n",
        "logger.setLevel(logging.INFO)\n",
        "console_handler = logging.StreamHandler()\n",
        "file_handler = RotatingFileHandler('clustering_with_bertopic.log', maxBytes=10485760, backupCount=3)\n",
        "logging_format = logging.Formatter('%(asctime)s - %(levelname)s - %(message)s')\n",
        "console_handler.setFormatter(logging_format)\n",
        "file_handler.setFormatter(logging_format)\n",
        "logger.addHandler(console_handler)\n",
        "logger.addHandler(file_handler)\n",
        "\n",
        "# Load configuration\n",
        "def load_config(config_path='config.json'):\n",
        "    with open(config_path) as config_file:\n",
        "        config = json.load(config_file)\n",
        "    return config\n",
        "\n",
        "# Load the dataset\n",
        "def load_data(file_path):\n",
        "    df = pd.read_csv(file_path, header=None, names=['keywords'])\n",
        "    return df['keywords'].tolist()\n",
        "\n",
        "# Preprocessing the keywords\n",
        "def preprocess_keywords(keywords):\n",
        "    tqdm.pandas(desc=\"Preprocessing Keywords\")\n",
        "    return keywords.progress_apply(lambda x: x.lower().strip())"
      ],
      "metadata": {
        "id": "tOYNR6P3ZJn5"
      },
      "execution_count": null,
      "outputs": []
    },
    {
      "cell_type": "markdown",
      "source": [
        "# **Step 5 - Perform Topic Modelling**\n",
        "\n",
        "Once again you have to do nothing - the script fill automatically do everything and get your keywords going."
      ],
      "metadata": {
        "id": "VtUz-Ms8ZPNn"
      }
    },
    {
      "cell_type": "code",
      "source": [
        "# Perform topic modeling with BERTopic\n",
        "def perform_topic_modeling(keywords, config):\n",
        "    model = BERTopic(min_topic_size=config.get('min_cluster_size', 5),\n",
        "                     language=config.get('language', 'english'),\n",
        "                     calculate_probabilities=config.get('calculate_probabilities', False),\n",
        "                     verbose=True)\n",
        "    topics, _ = model.fit_transform(keywords)\n",
        "    return topics, model\n",
        "\n",
        "# Save results to Excel, separated by identified topics and outliers\n",
        "def save_to_excel(df, file_path, outliers_file_path):\n",
        "    # Split the DataFrame into topics and outliers\n",
        "    df_topics = df[df['group'] != -1].sort_values('group')\n",
        "    df_outliers = df[df['group'] == -1]\n",
        "\n",
        "    # Save the topics to Excel, with grouping and coloring\n",
        "    wb_topics = Workbook()\n",
        "    ws_topics = wb_topics.active\n",
        "    ws_topics.append([\"Keyword\", \"Group\"])  # Add column headers\n",
        "\n",
        "    # Apply color to each cell based on the topic with a maximum of 20 colors\n",
        "    max_colors = 20\n",
        "    colors = sns.color_palette(\"hsv\", max_colors).as_hex()\n",
        "\n",
        "    grouped = df_topics.groupby('group')\n",
        "    row_index = 2\n",
        "    for group, data in grouped:\n",
        "        topic_color = colors[group % max_colors]\n",
        "        fill = PatternFill(start_color=topic_color[1:], end_color=topic_color[1:], fill_type='solid')\n",
        "        for _, row in data.iterrows():\n",
        "            ws_topics.append([row['keyword'], row['group']])\n",
        "            cell = ws_topics.cell(row=row_index, column=2)\n",
        "            cell.fill = fill\n",
        "            row_index += 1\n",
        "\n",
        "    # Adjust the column widths\n",
        "    for column_cells in ws_topics.columns:\n",
        "        length = max(len(str(cell.value)) for cell in column_cells)\n",
        "        ws_topics.column_dimensions[get_column_letter(column_cells[0].column)].width = length\n",
        "\n",
        "    wb_topics.save(file_path)\n",
        "\n",
        "    # Save the outliers to a separate Excel file\n",
        "    wb_outliers = Workbook()\n",
        "    ws_outliers = wb_outliers.active\n",
        "    ws_outliers.append([\"Keyword\"])  # Add column header for outliers\n",
        "    for _, row in df_outliers.iterrows():\n",
        "        ws_outliers.append([row['keyword']])\n",
        "\n",
        "    wb_outliers.save(outliers_file_path)\n",
        "\n",
        "# Main function to run topic modeling\n",
        "def main():\n",
        "    config = load_config()\n",
        "\n",
        "    try:\n",
        "        # Load data\n",
        "        keywords = load_data(config['file_path'])\n",
        "        preprocessed_keywords = preprocess_keywords(pd.Series(keywords))\n",
        "\n",
        "        # Perform topic modeling\n",
        "        labels, topic_model = perform_topic_modeling(preprocessed_keywords, config)\n",
        "\n",
        "        # Save the clustered data\n",
        "        df_clustered = pd.DataFrame({'keyword': preprocessed_keywords, 'group': labels})\n",
        "        save_to_excel(df_clustered, config['output_excel_file'], config['outliers_excel_file'])\n",
        "\n",
        "        logger.info(\"Topic modeling completed and results saved.\")\n",
        "\n",
        "    except Exception as e:\n",
        "        logger.exception(\"An error occurred during topic modeling.\")\n",
        "        raise\n",
        "\n",
        "if __name__ == \"__main__\":\n",
        "    main()"
      ],
      "metadata": {
        "id": "yfBhTzkWZRRV"
      },
      "execution_count": null,
      "outputs": []
    },
    {
      "cell_type": "markdown",
      "source": [
        "# **Final Step - Save Keywords Files**\n",
        "\n",
        "The script will create two files clustered_keywords.xlsx and outliers.xlsx\n",
        "\n",
        "Download and Enjoy! 🚀"
      ],
      "metadata": {
        "id": "oTVgiacHZUg2"
      }
    },
    {
      "cell_type": "code",
      "source": [
        "from google.colab import files\n",
        "import zipfile\n",
        "\n",
        "# Function to zip files - because Google Chrome will have issues downoading multiple files.\n",
        "def zip_files(files, zip_name):\n",
        "    with zipfile.ZipFile(zip_name, 'w') as zipf:\n",
        "        for file in files:\n",
        "            zipf.write(file, arcname=os.path.basename(file))\n",
        "    return zip_name\n",
        "\n",
        "excel_files = ['clustered_keywords.xlsx', 'outliers.xlsx']\n",
        "zip_filename = 'clustered_results.zip'\n",
        "zip_files(excel_files, zip_filename)\n",
        "\n",
        "files.download(zip_filename)"
      ],
      "metadata": {
        "id": "QI4wVHLEZgTU",
        "colab": {
          "base_uri": "https://localhost:8080/",
          "height": 17
        },
        "outputId": "4ce1b486-164c-40db-a147-80be765ba21f"
      },
      "execution_count": null,
      "outputs": [
        {
          "output_type": "display_data",
          "data": {
            "text/plain": [
              "<IPython.core.display.Javascript object>"
            ],
            "application/javascript": [
              "\n",
              "    async function download(id, filename, size) {\n",
              "      if (!google.colab.kernel.accessAllowed) {\n",
              "        return;\n",
              "      }\n",
              "      const div = document.createElement('div');\n",
              "      const label = document.createElement('label');\n",
              "      label.textContent = `Downloading \"${filename}\": `;\n",
              "      div.appendChild(label);\n",
              "      const progress = document.createElement('progress');\n",
              "      progress.max = size;\n",
              "      div.appendChild(progress);\n",
              "      document.body.appendChild(div);\n",
              "\n",
              "      const buffers = [];\n",
              "      let downloaded = 0;\n",
              "\n",
              "      const channel = await google.colab.kernel.comms.open(id);\n",
              "      // Send a message to notify the kernel that we're ready.\n",
              "      channel.send({})\n",
              "\n",
              "      for await (const message of channel.messages) {\n",
              "        // Send a message to notify the kernel that we're ready.\n",
              "        channel.send({})\n",
              "        if (message.buffers) {\n",
              "          for (const buffer of message.buffers) {\n",
              "            buffers.push(buffer);\n",
              "            downloaded += buffer.byteLength;\n",
              "            progress.value = downloaded;\n",
              "          }\n",
              "        }\n",
              "      }\n",
              "      const blob = new Blob(buffers, {type: 'application/binary'});\n",
              "      const a = document.createElement('a');\n",
              "      a.href = window.URL.createObjectURL(blob);\n",
              "      a.download = filename;\n",
              "      div.appendChild(a);\n",
              "      a.click();\n",
              "      div.remove();\n",
              "    }\n",
              "  "
            ]
          },
          "metadata": {}
        },
        {
          "output_type": "display_data",
          "data": {
            "text/plain": [
              "<IPython.core.display.Javascript object>"
            ],
            "application/javascript": [
              "download(\"download_cf0074aa-2515-47ed-a29a-0b8c6be66ffd\", \"clustered_results.zip\", 162583)"
            ]
          },
          "metadata": {}
        }
      ]
    }
  ]
}